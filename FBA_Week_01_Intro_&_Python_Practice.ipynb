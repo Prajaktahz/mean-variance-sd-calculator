{
  "nbformat": 4,
  "nbformat_minor": 0,
  "metadata": {
    "colab": {
      "provenance": [],
      "include_colab_link": true
    },
    "kernelspec": {
      "name": "python3",
      "display_name": "Python 3"
    },
    "language_info": {
      "name": "python"
    }
  },
  "cells": [
    {
      "cell_type": "markdown",
      "metadata": {
        "id": "view-in-github",
        "colab_type": "text"
      },
      "source": [
        "<a href=\"https://colab.research.google.com/github/Prajaktahz/mean-variance-sd-calculator/blob/main/FBA_Week_01_Intro_%26_Python_Practice.ipynb\" target=\"_parent\"><img src=\"https://colab.research.google.com/assets/colab-badge.svg\" alt=\"Open In Colab\"/></a>"
      ]
    },
    {
      "cell_type": "markdown",
      "source": [
        "![alt text](http://www.cs.nott.ac.uk/~pszgss/teaching/nlab.png)\n",
        "![alt text](http://www.cs.nott.ac.uk/~pszgss/teaching/nlab.png)\n",
        "# FBA Computing Session Week 1: Intro\n",
        "\n",
        "In this session we will aim to get comfortable with Google Colaboratory,\n",
        "introducing Jupyter notebooks and show how it is used for Python programming. We won’t be using any program files in this tutorial, but just testing out/getting a feel for Python commands in its “interactive mode”.\n",
        "\n",
        "## What is Programming:\n",
        "\n",
        "Television shows and films often show programmers furiously typing cryptic streams of 1s and 0s on glowing screens, but modern programming isn’t that mysterious. Programming is simply the act of entering instructions for the computer to perform. These instructions might crunch some numbers, modify text, look up information in files, or communicate with other computers over the Internet.\n",
        "\n",
        "## What do we need for it:\n",
        "\n",
        "1. A language that defines a set of words and rules that we are going to learn this semester to send instructions to the computer [**Python**]\n",
        "\n",
        "2. A development environment, to type in our language instructions, execute them and look at the results [**Jupyter Notebooks**]\n",
        "\n",
        "3. A language interpreter, that converts our written Python code into ‘machine code’ and vice versa.  [**Python Interpreter**]\n",
        "\n",
        "\n",
        "Jupyter Notebooks are simply a convenient graphical interface to write and execute Python code. However, there are a lot of other development environments such as  IDLE - “the Python Integrated Development Environment”, ECLIPSE, VIM, emacs... and even online versions such as the one at repl.it (please feel free to try any of these - have a look at https://repl.it for example).\n",
        "\n",
        "This year for Foundational Business Analytics we will be using Google Colaboratory. Colaboratory is based on Jupyter open source project. Colaboratory allows you to use and share Jupyter notebooks with others without having to download, install, or run anything on your own computer (or tablet) other than a browser.\n",
        "\n",
        "## Python interactive mode\n",
        "\n",
        "Python has two basic modes: script and interactive.\n",
        "1. The script mode is the mode where a script (i.e. a succession of commands) is run in the Python interpreter until it finishes and outputs results (on the screen, in a file, on a plot, ...).\n",
        "2. The interactive mode gives immediate feedback for each statement which is a good way to play around and try variations on syntax.\n",
        "\n",
        "## Like a calculator\n",
        "\n",
        "Typing mathematical operations in the Python interactive mode is very much like using a calculator so let's experiment with that.\n",
        "\n",
        "Type a mathematical operation of your choice in the box below and execute it by pressing  or the 'Run' button at the top of the screen or using the 'Shift' + 'Enter' keyboard shortcut.\n",
        "\n",
        "You should see the result of your operation on the next line (or 'Out [..]' line in Jupyter).\n",
        "\n"
      ],
      "metadata": {
        "id": "-5K2jAD1wX2Y"
      }
    },
    {
      "cell_type": "code",
      "source": [
        "1+1"
      ],
      "metadata": {
        "id": "tJU5jcOpYSYt"
      },
      "execution_count": null,
      "outputs": []
    },
    {
      "cell_type": "markdown",
      "source": [
        "Like a calculator (thankfully!) Python knows all the common mathematical operations like:\n",
        "- +\n",
        "- -\n",
        "- *\n",
        "- /\n",
        "\n",
        "Modify the operation you have initially typed to use the different operators and rerun the code to get an updated result."
      ],
      "metadata": {
        "id": "cnGXXH2TYVUx"
      }
    },
    {
      "cell_type": "markdown",
      "source": [
        "The order of operations that you know for mathematical expressions (e.g. a multiplication is granted a higher precedence than addition) is also applicable in Python. The language has a collection of rules that reflect conventions about which procedures to perform first in order to evaluate a given expression.\n",
        "\n",
        "Experiment multiple operations and the effect of parenthesis to prioritise certain part of an expression."
      ],
      "metadata": {
        "id": "W3XU9PPTZZQf"
      }
    },
    {
      "cell_type": "code",
      "source": [
        "(3+2)*10"
      ],
      "metadata": {
        "id": "pLQd8JR6ZcrN"
      },
      "execution_count": null,
      "outputs": []
    },
    {
      "cell_type": "markdown",
      "source": [
        "## Working with text\n",
        "\n",
        "Using Python as a calculator is a bit limited so let's now look at text. By convention in Python (and most programming languages), text has to be put in between quotations. If you don't, Python will interpret it as a *variable*, something that we will learn next week.\n",
        "\n",
        "Familiarise yourself in the box below on how to create some text in Python to output your first name and last name."
      ],
      "metadata": {
        "id": "KkibURQtZq78"
      }
    },
    {
      "cell_type": "code",
      "source": [
        "\"First name\""
      ],
      "metadata": {
        "id": "XXXRsxILZjjz"
      },
      "execution_count": null,
      "outputs": []
    },
    {
      "cell_type": "code",
      "source": [
        "\"Last name\""
      ],
      "metadata": {
        "id": "YbcONYh8ZnDX"
      },
      "execution_count": null,
      "outputs": []
    },
    {
      "cell_type": "markdown",
      "source": [
        "It may be less intuitive than for numbers but Python also defines a set of operators to work with text. If you use, the operator '+' between two texts (strings), Python will add (also refered to as 'concatenate') the texts to each other.\n",
        "\n",
        "Using that principle, print your first name AND last name in one line."
      ],
      "metadata": {
        "id": "MNGeHRcJZx5A"
      }
    },
    {
      "cell_type": "code",
      "source": [
        "\"First name \" + \"Last name\""
      ],
      "metadata": {
        "id": "Mg137rPzaBVh"
      },
      "execution_count": null,
      "outputs": []
    },
    {
      "cell_type": "code",
      "source": [
        "\"He\" + \"llo\""
      ],
      "metadata": {
        "id": "42mpl_kzaD_7"
      },
      "execution_count": null,
      "outputs": []
    },
    {
      "cell_type": "markdown",
      "source": [
        "## Communicating using 'print'\n",
        "\n",
        "So far, every command or instruction we have typed has given direct feedback in the output field. As we progress through the capabilities of Python and write more complex code, this will not always be the case otherwise the output would become unreadable! Imagine a code that does a 1000 operations before giving you the final result you are interested in, you don't necessarily want to see all the intermediary steps.\n",
        "\n",
        "Thankfully, there is way for you to print on the screen something that you specifically want to display by using the *print* function. We will learn in a few lessons what a function is more precisely but for now, familiarise yourself with it by printing some numbers, mathematical operations and text."
      ],
      "metadata": {
        "id": "_e2EccOtaR4q"
      }
    },
    {
      "cell_type": "code",
      "source": [
        "print(\"My first name\")"
      ],
      "metadata": {
        "id": "gantIbSWaYvf"
      },
      "execution_count": null,
      "outputs": []
    },
    {
      "cell_type": "markdown",
      "source": [
        "## Generate variables\n",
        "\n",
        "If we want to reuse our name more than once within the program, we can also create variables"
      ],
      "metadata": {
        "id": "Z_R1IjgFavfo"
      }
    },
    {
      "cell_type": "code",
      "source": [
        "NAME = \"My first name\"\n",
        "\n",
        "print(NAME)"
      ],
      "metadata": {
        "id": "vgipB5yma-o0"
      },
      "execution_count": null,
      "outputs": []
    },
    {
      "cell_type": "markdown",
      "source": [
        "# Python Practice\n",
        "\n",
        "This practical focuses on the concepts of:\n",
        "1. Mathematical Operators\n",
        "2. Strings\n",
        "3. Data types & Casting\n",
        "4. Variables\n",
        "5. Core functions\n",
        "6. Introduction to if statements\n",
        "\n",
        "<hr/>\n",
        "To get started, let's refresh our minds with simple addition."
      ],
      "metadata": {
        "id": "favR2_RzYP5C"
      }
    },
    {
      "cell_type": "code",
      "execution_count": null,
      "metadata": {
        "id": "9_jSV9rWGnaM"
      },
      "outputs": [],
      "source": [
        "# Press 'Run' or 'Shift'+'Enter' to run the code and visualise the output\n",
        "2+2"
      ]
    },
    {
      "cell_type": "markdown",
      "source": [
        "Let's now practice our operators and their prevalence by computing the value of the following fraction:\n",
        "\n",
        "$$\\frac{(27+3)*10}{2^4-1}$$"
      ],
      "metadata": {
        "id": "r89RRAEpK6Ny"
      }
    },
    {
      "cell_type": "code",
      "source": [
        "# Your code here"
      ],
      "metadata": {
        "id": "zR7O4P3JB4O8"
      },
      "execution_count": null,
      "outputs": []
    },
    {
      "cell_type": "markdown",
      "source": [
        "## Integer\n",
        "\n",
        "Create a variable **a** and assign it the value of 27."
      ],
      "metadata": {
        "id": "6Gq1E0VbLKCz"
      }
    },
    {
      "cell_type": "code",
      "source": [
        "# Your code here\n",
        "a = 27"
      ],
      "metadata": {
        "id": "t28ap5uHK5uK"
      },
      "execution_count": 3,
      "outputs": []
    },
    {
      "cell_type": "markdown",
      "source": [
        "Check the type of the variable **a**."
      ],
      "metadata": {
        "id": "0ji_myQvL-i1"
      }
    },
    {
      "cell_type": "code",
      "source": [
        "# Your code here\n",
        "type(a)"
      ],
      "metadata": {
        "id": "lNhIysZVMSmO",
        "colab": {
          "base_uri": "https://localhost:8080/"
        },
        "outputId": "a493483f-2475-47a4-8d46-8a8d45b76151"
      },
      "execution_count": 4,
      "outputs": [
        {
          "output_type": "execute_result",
          "data": {
            "text/plain": [
              "int"
            ]
          },
          "metadata": {},
          "execution_count": 4
        }
      ]
    },
    {
      "cell_type": "markdown",
      "source": [
        "## Float\n",
        "Create a variable **b** and assign it the value of 3.0"
      ],
      "metadata": {
        "id": "BXlB38rQMZSp"
      }
    },
    {
      "cell_type": "code",
      "source": [
        "# Your code here\n",
        "b = 3.0"
      ],
      "metadata": {
        "id": "A7s-cqOFMm46"
      },
      "execution_count": 5,
      "outputs": []
    },
    {
      "cell_type": "markdown",
      "source": [
        "Check the type of the variable **b**"
      ],
      "metadata": {
        "id": "vrSiLsDHMzoC"
      }
    },
    {
      "cell_type": "code",
      "source": [
        "# Your code here\n",
        "type(b)"
      ],
      "metadata": {
        "id": "vnsWyAV_NHU2",
        "colab": {
          "base_uri": "https://localhost:8080/"
        },
        "outputId": "20801e15-5f1d-4966-9850-5418a6afda2a"
      },
      "execution_count": 6,
      "outputs": [
        {
          "output_type": "execute_result",
          "data": {
            "text/plain": [
              "float"
            ]
          },
          "metadata": {},
          "execution_count": 6
        }
      ]
    },
    {
      "cell_type": "markdown",
      "source": [
        "## String\n",
        "Create a variable **c** and assign it the value of 'three'"
      ],
      "metadata": {
        "id": "i8XuJ5W5NN18"
      }
    },
    {
      "cell_type": "code",
      "source": [
        "# Your code here\n",
        "c = 'three'"
      ],
      "metadata": {
        "id": "JgzLiBuYNRiV"
      },
      "execution_count": 24,
      "outputs": []
    },
    {
      "cell_type": "markdown",
      "source": [
        "Check the type of the variable **c**"
      ],
      "metadata": {
        "id": "933WgHq4Cwaa"
      }
    },
    {
      "cell_type": "code",
      "source": [
        "# Your code here\n",
        "type(c)\n",
        "print(50 % 100)"
      ],
      "metadata": {
        "id": "a3BakcuQCzr7",
        "colab": {
          "base_uri": "https://localhost:8080/"
        },
        "outputId": "1c435c35-2e8d-4456-b6ab-b3b6ad3575bd"
      },
      "execution_count": 42,
      "outputs": [
        {
          "output_type": "stream",
          "name": "stdout",
          "text": [
            "50\n"
          ]
        }
      ]
    },
    {
      "cell_type": "markdown",
      "source": [
        "## Casting to a different data type\n",
        "\n",
        "Using the casting functions **str(), int(), float()** try to cast your variables **a**, **b** and **c** to different data types, experiment what works and what doesn't."
      ],
      "metadata": {
        "id": "okjtKYORC5ZF"
      }
    },
    {
      "cell_type": "code",
      "source": [
        "#cast_a = int(a)\n",
        "#type(a)\n",
        "a = '3'\n",
        "#type(a)\n",
        "a = int(a)\n",
        "type(a)"
      ],
      "metadata": {
        "id": "LZ3MACAhDEWj",
        "colab": {
          "base_uri": "https://localhost:8080/"
        },
        "outputId": "7f5587b1-3606-46d0-85e4-5e97bb0c2ef4"
      },
      "execution_count": 10,
      "outputs": [
        {
          "output_type": "execute_result",
          "data": {
            "text/plain": [
              "int"
            ]
          },
          "metadata": {},
          "execution_count": 10
        }
      ]
    },
    {
      "cell_type": "markdown",
      "source": [
        "## Towards scripting\n",
        "\n",
        "You can write multiple instructions in the same 'code' cell to build small blocks of logics. Here is an example:"
      ],
      "metadata": {
        "id": "yYMxwpKpDNC2"
      }
    },
    {
      "cell_type": "code",
      "source": [
        "a = 2\n",
        "b = 1\n",
        "c = a + b\n",
        "print(c)"
      ],
      "metadata": {
        "id": "aQ92GNHHDP8H",
        "colab": {
          "base_uri": "https://localhost:8080/"
        },
        "outputId": "409e1404-db28-43ce-b077-9fd827b05560"
      },
      "execution_count": 11,
      "outputs": [
        {
          "output_type": "stream",
          "name": "stdout",
          "text": [
            "3\n"
          ]
        }
      ]
    },
    {
      "cell_type": "markdown",
      "source": [
        "Following the same principle, do the following actions all in the same 'code' cell:\n",
        "- Create a variable x and assign it the value 27\n",
        "- Create a variable y and assign it the value 3\n",
        "- Create a variable n and assign it the value 4\n",
        "- Create a variable z and assign it the value of:\n",
        "$$z=\\frac{(x+y)*10}{2^n-1}$$\n",
        "- Print the value of z"
      ],
      "metadata": {
        "id": "Vf0-Y3uPDStt"
      }
    },
    {
      "cell_type": "code",
      "source": [
        "# Your code here\n",
        "x = 27\n",
        "y = 3\n",
        "n = 4\n",
        "z = ((x + y) * 10) / ((2 ** n) - 1)\n",
        "print(z)"
      ],
      "metadata": {
        "id": "XZ5dXuoXDXc7",
        "colab": {
          "base_uri": "https://localhost:8080/"
        },
        "outputId": "00dbd3c4-d519-44e9-f1aa-a58ca0f4dd7e"
      },
      "execution_count": 12,
      "outputs": [
        {
          "output_type": "stream",
          "name": "stdout",
          "text": [
            "20.0\n"
          ]
        }
      ]
    },
    {
      "cell_type": "markdown",
      "source": [
        "You can now change the value of any of our parameters and compute the new value of our variable z."
      ],
      "metadata": {
        "id": "yCefkoEmDZfo"
      }
    },
    {
      "cell_type": "markdown",
      "source": [
        "## Capturing the user input\n",
        "\n",
        "Capture the user's input using the function **input()** and store the value in a variable."
      ],
      "metadata": {
        "id": "kl2JWNpQDagI"
      }
    },
    {
      "cell_type": "code",
      "source": [
        "# Your code here\n",
        "a = input(\"Enter Name: \")"
      ],
      "metadata": {
        "id": "HQWmHMKeDjFj",
        "colab": {
          "base_uri": "https://localhost:8080/"
        },
        "outputId": "dacf3a09-fd7f-4c18-8995-f6602be0da3a"
      },
      "execution_count": 14,
      "outputs": [
        {
          "output_type": "stream",
          "name": "stdout",
          "text": [
            "Enter Name: Prajakta\n",
            "Hi  Prajakta\n"
          ]
        }
      ]
    },
    {
      "cell_type": "markdown",
      "source": [
        "Print on the screen the value that the user has entered and check its type."
      ],
      "metadata": {
        "id": "lfkkAc-zDlGW"
      }
    },
    {
      "cell_type": "code",
      "source": [
        "# Your code here\n",
        "print(\"Hi \", a)"
      ],
      "metadata": {
        "id": "qOkB_cR-DnAZ",
        "colab": {
          "base_uri": "https://localhost:8080/"
        },
        "outputId": "4d18da04-85fd-44a7-e2d2-36452b6ca988"
      },
      "execution_count": 16,
      "outputs": [
        {
          "output_type": "stream",
          "name": "stdout",
          "text": [
            "Hi  Prajakta\n"
          ]
        }
      ]
    },
    {
      "cell_type": "markdown",
      "source": [
        "# Our first program\n",
        "\n",
        "Let's write a program that ask the user to enter its name, then its age and finally display the sentence:\n",
        "\n",
        "***Your name is [...], and you are [...] years old***\n",
        "\n",
        "(replace the [...] by the values entered by the user)"
      ],
      "metadata": {
        "id": "ptKPT5RQDsC_"
      }
    },
    {
      "cell_type": "code",
      "source": [
        "# Your code here\n",
        "name = input('Enter Name: ')\n",
        "age = input('Enter Age: ')"
      ],
      "metadata": {
        "id": "dn1Y8hSpDxn9",
        "colab": {
          "base_uri": "https://localhost:8080/"
        },
        "outputId": "dec01677-3771-43ec-e61b-78b4a1a629d7"
      },
      "execution_count": 21,
      "outputs": [
        {
          "name": "stdout",
          "output_type": "stream",
          "text": [
            "Enter Name: Reena\n",
            "Enter Age: 24\n"
          ]
        }
      ]
    },
    {
      "cell_type": "markdown",
      "source": [
        "Let's now slightly modify our program so that it now displays how old you will be next year (the program will still ask the **current** age of the user):\n",
        "\n",
        "***Your name is [...] and you will be [...] next year***"
      ],
      "metadata": {
        "id": "5HQ-yCZVD0OY"
      }
    },
    {
      "cell_type": "code",
      "source": [
        "# Your code here\n",
        "print('Your name is ' + name + ', and you are ' + str(age) + ' years old')"
      ],
      "metadata": {
        "id": "_6szrTbsD0-I",
        "colab": {
          "base_uri": "https://localhost:8080/"
        },
        "outputId": "9fa994f1-b821-4ef8-eaee-f4d35cf41309"
      },
      "execution_count": 22,
      "outputs": [
        {
          "output_type": "stream",
          "name": "stdout",
          "text": [
            "Your name is Reena, and you are 24 years old\n"
          ]
        }
      ]
    },
    {
      "cell_type": "markdown",
      "source": [
        "## N/LAB has got an ice cream van\n",
        "\n",
        "At some point N/LAB was looking to invest in a business and decided to take over an ice cream van business.\n",
        "\n",
        "Before the take over, the van was selling ice creams in Nottingham City Centre and reported the following sales:\n",
        "\n",
        "|| January | February | March | April | May | June | July | August | September | October | November | December\n",
        "|-|-|-|-|-|-|-|-|-|-|-|-|-|\n",
        "|2020|£1000|£1100|£1200|£1300|£1400|£1500|£1500|£1400|£1300|£1200|£1100|£1000|\n",
        "|2021|£1100|£1200|£1300|£1400|£1500|£1600|£1600|£1500|£1400|£1300|£1200|£1100|\n",
        "\n",
        "Make good use of variables, it will avoid you typing repeatedly the same numbers !\n",
        "\n",
        "**<font color=green><font size=5>&rarr;</font> What was the total revenue for year 2020 ?</font>**"
      ],
      "metadata": {
        "id": "uyVvA-qDD-lQ"
      }
    },
    {
      "cell_type": "code",
      "source": [
        "# Your code here\n",
        "year_2020 = [1000,1100,1200,1300,1400,1500,1500,1400,1300,1200,1100,1000]\n",
        "total_Sales_2020 = sum(year_2020)\n",
        "print('Total Revenue is: ', total_Sales_2020)"
      ],
      "metadata": {
        "id": "0M9S9LmqEFvJ",
        "colab": {
          "base_uri": "https://localhost:8080/"
        },
        "outputId": "a3c4eb31-d23f-4e71-9d34-d7e22d9702e3"
      },
      "execution_count": 37,
      "outputs": [
        {
          "output_type": "stream",
          "name": "stdout",
          "text": [
            "Total Revenue is:  15000\n"
          ]
        }
      ]
    },
    {
      "cell_type": "markdown",
      "source": [
        "**<font color=green><font size=5>&rarr;</font> What was the total revenue for year 2021? (pay attention to the symmetry of sales, there is a tip to reduce the amount of typing!)</font>**"
      ],
      "metadata": {
        "id": "PbyT4FeaKy9O"
      }
    },
    {
      "cell_type": "code",
      "source": [
        "# Your code here\n",
        "year_2021 = [1100,1200,1300,1400,1500,1600,1600,1500,1400,1300,1200,1100]\n",
        "total_Sales_2021 = sum(year_2021)\n",
        "#print('Total Revenue for year 2021: ', sum(year_2021))\n",
        "\n",
        "diff = 0\n",
        "for i in range(len(year_2021)):\n",
        "  temp = year_2021[i] - year_2020[i]\n",
        "  diff = diff + temp\n",
        "\n",
        "print('Total difference: ', diff)\n",
        "print('Total Revenue for year 2021: ', sum(year_2020) + diff)\n"
      ],
      "metadata": {
        "id": "wZwM_EsbK2eF",
        "colab": {
          "base_uri": "https://localhost:8080/"
        },
        "outputId": "f9efa968-2585-46f3-a574-342727d585f6"
      },
      "execution_count": 38,
      "outputs": [
        {
          "output_type": "stream",
          "name": "stdout",
          "text": [
            "Total difference:  1200\n",
            "Total Revenue for year 2021:  16200\n"
          ]
        }
      ]
    },
    {
      "cell_type": "markdown",
      "source": [
        "**<font color=green><font size=5>&rarr;</font>  What was the average monthly income for year 2021? (reuse variables!)</font>**"
      ],
      "metadata": {
        "id": "NccFRJG0EHWr"
      }
    },
    {
      "cell_type": "code",
      "source": [
        "# Your code here\n",
        "average_sales_2021 = total_Sales_2021 / 12\n",
        "print('Avg sales for  year 2021: ', average_sales_2021)"
      ],
      "metadata": {
        "id": "Ss6qajG5EKTJ",
        "colab": {
          "base_uri": "https://localhost:8080/"
        },
        "outputId": "9401165c-314c-409a-980b-0e7dddc25817"
      },
      "execution_count": 34,
      "outputs": [
        {
          "output_type": "stream",
          "name": "stdout",
          "text": [
            "Avg sales for  year 2021:  1350.0\n"
          ]
        }
      ]
    },
    {
      "cell_type": "markdown",
      "source": [
        "**<font color=green><font size=5>&rarr;</font> What was profit increase (%) of the business between 2020 and 2021?</font>**"
      ],
      "metadata": {
        "id": "YTarCVjWEOEN"
      }
    },
    {
      "cell_type": "code",
      "source": [
        "# Your code here\n",
        "percent_increase = (total_Sales_2021 - total_Sales_2020) / total_Sales_2020 * 100\n",
        "print(percent_increase)"
      ],
      "metadata": {
        "id": "DdUjgTNTERfM",
        "colab": {
          "base_uri": "https://localhost:8080/"
        },
        "outputId": "1098f767-1a06-4c32-97c9-eb52a719837d"
      },
      "execution_count": 40,
      "outputs": [
        {
          "output_type": "stream",
          "name": "stdout",
          "text": [
            "8.0\n"
          ]
        }
      ]
    },
    {
      "cell_type": "markdown",
      "source": [
        "**<font color=green><font size=5>&rarr;</font> It is expected that the business will continue to grow at the same pace, what total revenue should N/LAB expect for year 2022?</font>**"
      ],
      "metadata": {
        "id": "3Zbrwj4ZEURj"
      }
    },
    {
      "cell_type": "code",
      "source": [
        "# Your code here\n",
        "expected_sales_2022 = total_Sales_2021 + 8 % (total_Sales_2021)\n",
        "print('Expected sales by end of year 2022: ', expected_sales_2022)"
      ],
      "metadata": {
        "id": "0v-gYZNMEVFW",
        "colab": {
          "base_uri": "https://localhost:8080/"
        },
        "outputId": "0cdf2a85-45ce-4a69-aaa3-020196877e80"
      },
      "execution_count": 45,
      "outputs": [
        {
          "output_type": "stream",
          "name": "stdout",
          "text": [
            "Expected sales by end of year 2022:  16208\n"
          ]
        }
      ]
    },
    {
      "cell_type": "markdown",
      "source": [
        "<hr/>\n",
        "\n",
        "### The harsh reality\n",
        "At the end of 2022, the N/LAB ice cream van reported the following sales for the year, but it was selling from outside the N/LAB:\n",
        "\n",
        "|| January | February | March | April | May | June | July | August | September | October | November | December\n",
        "|-|-|-|-|-|-|-|-|-|-|-|-|-|\n",
        "|2022|£500|£1600|£1700|£1800|£1900|£500|£500|£500|£1800|£1700|£1600|£500|"
      ],
      "metadata": {
        "id": "pgpGmX9_EY__"
      }
    },
    {
      "cell_type": "markdown",
      "source": [
        "**<font color=green><font size=5>&rarr;</font> What was the actual revenue for 2022?</font>**"
      ],
      "metadata": {
        "id": "JnVMEipcEdCJ"
      }
    },
    {
      "cell_type": "code",
      "source": [
        "# Your code here\n",
        "year_2022 = [500,1600,1700,1800,1900,500,500,500,1800,1700,1600,500]\n",
        "actual_sales_2022 = sum(year_2022)\n",
        "print(actual_sales_2022)"
      ],
      "metadata": {
        "id": "t5g_JyXjEd9W",
        "colab": {
          "base_uri": "https://localhost:8080/"
        },
        "outputId": "6f734db4-f861-4594-b630-6528c1ea939f"
      },
      "execution_count": 48,
      "outputs": [
        {
          "output_type": "stream",
          "name": "stdout",
          "text": [
            "14600\n"
          ]
        }
      ]
    },
    {
      "cell_type": "markdown",
      "source": [
        "**<font color=green><font size=5>&rarr;</font> Using a if statement, compare the actual revenue for 2022 to the expected one and print whether 'N/LAB has over performed' or 'N/LAB has under performed'</font>**"
      ],
      "metadata": {
        "id": "2qRn3bZvEkBh"
      }
    },
    {
      "cell_type": "code",
      "source": [
        "# Your code here\n",
        "if( actual_sales_2022 > expected_sales_2022):\n",
        "    print(\"N/LAB has over performed\")\n",
        "else:\n",
        "  print(\"N/LAB has under performed\")"
      ],
      "metadata": {
        "id": "Xu7qLXHWEl5h",
        "colab": {
          "base_uri": "https://localhost:8080/"
        },
        "outputId": "86d98d72-8b00-49a6-c15a-58fb875eb6ea"
      },
      "execution_count": 49,
      "outputs": [
        {
          "output_type": "stream",
          "name": "stdout",
          "text": [
            "N/LAB has under performed\n"
          ]
        }
      ]
    },
    {
      "cell_type": "markdown",
      "source": [
        "**<font color=green><font size=5>&rarr;</font> How much of a loss (in %) does this actual revenue represent compared to the expected revenue?</font>**"
      ],
      "metadata": {
        "id": "4f6T-cZhEpcG"
      }
    },
    {
      "cell_type": "code",
      "source": [
        "# Your code here"
      ],
      "metadata": {
        "id": "5oVAUPnuErOc"
      },
      "execution_count": null,
      "outputs": []
    },
    {
      "cell_type": "markdown",
      "source": [
        "**<font color=green><font size=5>&rarr;</font> In order to fill that deficit, N/LAB is considering alternating between the two locations (City centre and outside N/LAB), what optimal schedule do you recommend us?</font>**"
      ],
      "metadata": {
        "id": "zowK_1-HEvru"
      }
    },
    {
      "cell_type": "markdown",
      "source": [
        "By the way this is a 'markdown' cell were you can type text to make notes for yourself or in this case answer to the question - double click on this text to edit it"
      ],
      "metadata": {
        "id": "cjqyApeeE1VU"
      }
    },
    {
      "cell_type": "markdown",
      "source": [
        "**<font color=green><font size=5>&rarr;</font> How much would have N/LAB made in 2022 if they followed your advice?</font>**"
      ],
      "metadata": {
        "id": "ezKCeZ4RE87m"
      }
    },
    {
      "cell_type": "code",
      "source": [
        "# Your code here"
      ],
      "metadata": {
        "id": "gpEyOrQrFA2S"
      },
      "execution_count": null,
      "outputs": []
    },
    {
      "cell_type": "markdown",
      "source": [
        "## Challenge\n",
        "\n",
        " Let's first consider the 7 months where the ice cream van is performing better outside N/LAB compared to the city centre and keep that successfull side of the business as it is. We now want to find what minimum monthly sale for the 5 'under-performing' months we need to make to reach our expected revenue for 2022.\n",
        "    \n",
        "**<font color=green><font size=5>&rarr;</font> Write a program that ask the user a monthly sale value for the 5 'under-performing' months and print back whether 'N/LAB would be in profit!' or 'N/LAB would still be in deficit!' with that value</font>**"
      ],
      "metadata": {
        "id": "rNc2wH0WFF3y"
      }
    },
    {
      "cell_type": "code",
      "source": [
        "# Your code here"
      ],
      "metadata": {
        "id": "YK0nDXeyFTwf"
      },
      "execution_count": null,
      "outputs": []
    },
    {
      "cell_type": "code",
      "source": [
        "# Your code here"
      ],
      "metadata": {
        "id": "ZUSx56NaFVqh"
      },
      "execution_count": null,
      "outputs": []
    }
  ]
}